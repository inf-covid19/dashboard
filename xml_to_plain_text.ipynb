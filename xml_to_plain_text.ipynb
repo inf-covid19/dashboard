{
 "cells": [
  {
   "cell_type": "code",
   "execution_count": 27,
   "metadata": {},
   "outputs": [],
   "source": [
    "import re\n",
    "from os import path\n",
    "import string\n",
    "import xml.etree.ElementTree as ET\n",
    "from chemdataextractor.doc import Paragraph\n",
    "import xml.dom.minidom\n",
    "from gensim.models.phrases import Phraser\n",
    "from monty.fractions import gcd_float\n",
    "from pymatgen.core.periodic_table import Element\n",
    "from pymatgen.core.composition import Composition, CompositionError"
   ]
  },
  {
   "cell_type": "code",
   "execution_count": 2,
   "metadata": {},
   "outputs": [],
   "source": [
    "def namespace(element):\n",
    "    m = re.match(r'\\{.*\\}', element.tag)\n",
    "    return m.group(0) if m else ''"
   ]
  },
  {
   "cell_type": "code",
   "execution_count": 3,
   "metadata": {},
   "outputs": [],
   "source": [
    "tree = ET.parse('clean_out/1-s2.0-S0006291X03024136-main.tei.xml')"
   ]
  },
  {
   "cell_type": "code",
   "execution_count": 4,
   "metadata": {},
   "outputs": [],
   "source": [
    "root = tree.getroot()"
   ]
  },
  {
   "cell_type": "code",
   "execution_count": 5,
   "metadata": {},
   "outputs": [
    {
     "data": {
      "text/plain": [
       "'{http://www.tei-c.org/ns/1.0}'"
      ]
     },
     "execution_count": 5,
     "metadata": {},
     "output_type": "execute_result"
    }
   ],
   "source": [
    "namespace(root)"
   ]
  },
  {
   "cell_type": "code",
   "execution_count": 6,
   "metadata": {},
   "outputs": [],
   "source": [
    "text = [item.find(namespace(item)+'text') for item in root.iter() if item.find(namespace(item)+'text') is not None][0]"
   ]
  },
  {
   "cell_type": "code",
   "execution_count": 7,
   "metadata": {},
   "outputs": [
    {
     "name": "stdout",
     "output_type": "stream",
     "text": [
      "['\\n', 'We have cloned, expressed, and characterized the full-length and various soluble fragments of the SARS-CoV (Tor2 isolate) S glycoprotein. Cells expressing S fused with receptor-expressing cells at neutral pH suggesting that the recombinant glycoprotein is functional, its membrane fusogenic activity does not require other viral proteins, and that low pH is not required for triggering membrane fusion; fusion was not observed at low receptor concentrations. S and its soluble ectodomain, S e , were not cleaved to any significant degree. They ran at about 180-200 kDa in SDS gels suggesting post-translational modifications as predicted by previous computer analysis and observed for other coronaviruses. Fragments containing the N-terminal amino acid residues 17-537 and 272-537 but not 17-276 bound specifically to Vero E6 cells and purified soluble receptor, ACE2, recently identified by M. Farzan and coworkers [Nature 426 (2003) 450-454]. Together with data for inhibition of binding by antibodies developed against peptides from S, these findings suggest that the receptor-binding domain is located between amino acid residues 303 and 537. These results also confirm that ACE2 is a functional receptor for the SARS virus and may help in the elucidation of the mechanisms of SARS-CoV entry and in the development of vaccine immunogens and entry inhibitors. Published by Elsevier Inc.', '\\n\\t\\t\\t']\n"
     ]
    }
   ],
   "source": [
    "for text in root.iter(namespace(root)+'abstract'):\n",
    "    print([t for t in text.itertext()])"
   ]
  },
  {
   "cell_type": "code",
   "execution_count": 8,
   "metadata": {},
   "outputs": [
    {
     "name": "stdout",
     "output_type": "stream",
     "text": [
      "['\\n', 'Viral envelope glycoproteins initiate entry of viruses into cells by binding to cell surface receptors followed by conformational changes leading to membrane fusion and delivery of the genome in the cytoplasm ', '\\n', 'Materials and methods', 'Antibodies and plasmids. New Zealand rabbits were immunized with 0.1 mg of various peptides selected by a computer program for their immunogenicity. Serum from the immunized rabbits was tested in ELISA and Western blot for reactivity. Sera from rabbits immunized with two peptides exhibited the highest and specific activity against the S glycoprotein and were selected for this study. The antibodies denoted D24 and P540 were elicited by the peptides DVQAPNYTQH TSSMRGC and PSSKRFQPFQQFGRDC, respectively. Another anti-SARS-CoV S glycoprotein polyclonal antibody IMG-542, which recognizes amino acid 288-303 of the S glycoprotein, was purchased from IMGENEX (San Diego, CA). Plasmids encoding ACE2, pCDNA3-ACE2, and its soluble form, pCDNA3-ACE2-ecto, were kindly provided by M. Farzan from Harvard Medical School, Boston, MA. VTF7.3 and VCB21R are kind gifts from C. Broder, USUHS, Bethesda, MD. Expression vectors pCDNA3 and pSecTag2 series were purchased from Invitrogen (Carlsbad, CA).', 'Construction of full-length S glycoprotein cDNAs and cloning in expression vectors. Three pBR194c-based plasmids containing overlapping cDNAs that cover the full-length S glycoprotein coding sequence were purchased from the British Columbia Cancer Agency (BC, Canada). The following primers were used for amplification and overlapping PCR cloning of the full-length S glycoprotein: #1, 5 0 AGTCGGATCC GGTAGGCTTATCATTAGAG 3 0 ; #2, 5 0 CCAT CAGGGGAGAA AGG CAC 3 0 ; #3, 5 0 GTGCCTTTCTCCCCTGATGG 3 0 ; #4, 5 0 GA AGAGCAGCGCCAGCACC 3 0 ; #5, 5 0 GGTGCT GGCGCTGCTC TTC 3 0 ; and #6, 5 0 ACTGTCTAGAGTTCGTTT ATGTGTAATG 3 0 . The amplified full-length S gene was cut with BamHI and XbaI and ligated into the corresponding restriction sites in pCDNA3 plasmid to create pCDNA3-S. This plasmid was used to generate various soluble fragments of the S glycoprotein. The pair of primers #7, 5 0 AGTCGGAT CCGACCGGTGCACCACTTTTG 3 0 and #8, 5 0 AGTCGGGCCCCT GTTCAGCAGCAATACC 3 0 was used to amplify the S1 fragment containing residues 17-756. The fragment was cut with BamHI and ApaI and cloned into corresponding sites of expression vector pSecTag2B (Invitrogen). Primer #7 and primer #9 5 0 CTAGCTCGAGCAA-CAGCATCTGTG 3 0 were used to amplify fragment S276 containing residues 17-276. The fragment was cut with BamHI and XhoI and cloned into the corresponding sites in the pSecTag2B vector. Fragment S537 was generated by cutting S1 with BamHI and HincII and cloned into pSecTag2B cut with BamHI and EcoRV. To generate soluble S glycoprotein ectodomain, S e , site-directed mutagenesis was performed to create an ApaI site upstream to the transmembrane domain of the S glycoprotein gene in pCDNA3-S. Then this plasmid was digested with PstI and ApaI and the resulting fragment was used to replace the PstI-ApaI fragments from pSecTag2B-S1, creating the pSecTag2B-S e plasmid. PstI-ApaI fragment from pCDNA3-S was used to replace the PstI-ApaI fragment from pSecTag2B-S e to create pSecTag2B-S without tags. To create the fragment containing residues 272-537, the following pair of primers, primer #10 5 0 GATCGGATCCGGTACAATCACAG 3 0 and primer #11 5 0 GATCGGGCCCGACACACTGGTTC 3 0 , was used for PCR amplification. The amplified fragment was digested with BamHI and ApaI and ligated to pSecTag2B digested with the same restriction enzymes. All S fragments and full-length S constructed in pSecTag2B had their native leader sequence (aa 1-16) replaced with a mouse k chain leader sequence.', \"Protein expression. Vero E6 or 293 cells were transfected with various plasmids using the Polyfect transfection kit from Qiagen (Valencia, CA) following the manufacturer's protocol. Four hours after transfection, cells were infected with VTF7.3 recombinant vaccinia virus encoding the gene for the T7 polymerase. The soluble fragments were obtained from the cell culture medium. The full-length S glycoprotein was detected only from cell lysate.\", 'Immunoprecipitation and purification. Medium from cells transfected with various soluble S fragments was collected and subjected to centrifugation at 1000g for 10 min to remove cellular debris. The cleared medium was incubated with either Ni-NTA agarose beads (Qiagen, Valencia, CA) or immunoprecipitating antibody plus glycoprotein G-Sepharose beads (Sigma, St. louis, MO) for 2 h at 4°C. The beads were then mixed with an equal volume of SDS gel sample buffer, boiled for 3 min, and subjected to gel analysis. For full-length S glycoprotein, cells were lysed first in PBS supplemented with 1% NP-40 and 0.5 mM PMSF for 1 h at 4°C, and centrifuged at 14,000 rpm in a table-top Eppendorf centrifuge for 20 min. The cleared lysate was either immunoprecipitated first or used directly in Western blotting.', 'Western blotting and slot blots. Cells expressing the S glycoprotein were lysed first with a PBS-based NP40 lysis buffer as described above, and the debris were cleared by centrifugation. For soluble S fragments the medium was collected and cleared as described above. For slot blot, the cleared lysate or medium from supernatant was used directly to blot the nitrocellulose membrane following the protocol suggested by the manufacturer (Bio-Rad, Hercules, CA) and the membrane was subjected to antibody detection as in conventional Western blotting. For Western blotting, the monoclonal anti-c-Myc epitope antibody (Invitrogen, Carlsbad, CA) or the rabbit polyclonal antibodies obtained by immunization of rabbits with peptides were diluted in TBST buffer and incubated with the membrane for 2 h, washed and then incubated with the secondary antibody conjugated with HRP for 1 h, washed four times, each time for 15 min, and then developed using the ECL reagent (Pierce, Rockford, IL).', 'Cell-binding assay and ELISA. Medium containing soluble S fragments was collected and cleared by centrifugation. Vero E6 or other cells (5 Â 10 6 ) were incubated with 0.5 ml of cleared medium containing soluble S fragments and 2 lg of anti-c-Myc epitope antibody conjugated with HRP at 4°C for 2 h. Cells were then washed three times with ice-cold PBS and collected by centrifugation. The cell pellets were incubated with ABTS substrate from Roche (Indianapolis, IN) at RT for 10 min, the substrate was cleared by centrifugation, and OD405 was measured.', 'For ELISA, purified ACE2 (R&D, Minneapolis, MN) was blocked to Maxisorp ELISA plate in pH 9.6 buffer at 100 ng per well. Medium (150 ll) containing various soluble S fragments and 0.6 lg of anti-c-Myc epitope antibody conjugated with HRP were incubated in each well at 37°C for 2 h. Wells were washed and 60 ll of ABTS substrate was added to each well. OD405 was measured 20 min later.', 'Fluorescent dye redistribution cell fusion assay. HeLa or 293T cells, transfected with plasmids encoding the S glycoprotein, were loaded with Calcein AM (Molecular Probes), which is converted in cells to calcein green. The cells were incubated in medium containing 1 lg/ml Calcein AM for 1 h at 37°C and 5% CO 2 , and then washed and resuspended in fresh medium. Plated target cells, Vero E6, were stained with CMAC (Molecular Probes) by incubation in 1 lg/ml CMAC in medium for 30 min at 37°C and 5% CO 2 , then the cells were washed twice with medium and incubated for 20 min in fresh medium and washed again, and then covered with 0.5 ml medium in each well. The S-expressing cells, loaded with calcein, were added to the target cells and incubated for 1, 2, or 4 h at 37°C and 5% CO 2 . Fusion was measured as the ratio between the cells that have double staining and the total number of target cells in contact with an S glycoproteinexpressing cell. Microphotographs were taken by using MethaMorph 4.0 software from Universal Imaging.', \"b-Galactosidase reporter gene-based cell-cell fusion assay. 293T cells (1.5 Â 10 6 ) were plated in T25 flasks one day before transfection. The next day, these cells were transfected with pCDNA3-S, pSectag2B-S, pCDNA3-ACE2, and pCDNA3-ACE2-Ecto, respectively, using the Polyfect transfection kit (Qiagen, Valencia, CA) following the manufacturer's suggested protocol. Four hours after transfection, cells transfected with S constructs were infected with T7 polymerase-expressing vaccinia virus VTF7.3 and cells transfected with ACE-2 constructs were infected with b-gal encoding vaccinia virus (VCB21R). Two hours after infection, cells were incubated with fresh medium and transferred to 31°C for overnight incubation. The next day S glycoprotein-expressing cells and ACE-2-expressing cells were mixed in 1:1 ratio and incubated at 37°C. Three hours later, cells were lysed by adding NP-40 to a final concentration of 0.5%. Cell lysate (50 ll) was mixed with equal volume of CPRG substrate and OD595 was measured 1 h later.\", '\\n', 'Results and discussion', 'Cloning, expression, purification, and general characterization of full-length S glycoprotein and soluble fragments', 'To characterize the properties and function of the SARS-CoV S protein we cloned in expression vectors the DNAs encoding the full-length Tor2 isolate ', 'These proteins were expressed in 293 and Vero E6 cells after transfection with the corresponding plasmids followed by infection with vaccinia virus-expressing T7 polymerase. The tagged proteins were detected by using an anti-c-Myc monoclonal antibody ', 'To be able to detect unlabeled proteins, validate the data obtained by the anti-c-Myc antibody, and localize possible antigenic sites we developed rabbit polyclonal antibodies. Two of these antibodies, D24 and P540 raised against peptides starting at residues 24 and 540, respectively, recognized specifically tagged soluble fragments ', 'All S glycoprotein fragments and the full-length S glycoprotein ran on a SDS-PAGE gel at positions significantly higher than their estimated molecular weights, indicating the possibility for post-translational modifications. S276 had an apparent molecular weight of about 75 kDa, S537-100-110 kDa, S756-130-140 kDa, and S e and S-about 200 kDa or higher ', 'We have not observed measurable cytopathic effects in cells transfected with any of the constructs we developed (data not shown) indicating the possibility that the full-length and soluble fragments of the S glycoprotein may not have direct cytopathic effects. However, at higher levels of expression such effects are possible and obviously formation of syncytia as described in the next section could lead to cell death.', '\\n', 'The full-length S glycoprotein mediates fusion at neutral pH with cells expressing receptor molecules', 'To confirm that the full-length recombinant S glycoprotein is functional, and to find whether it requires ', 'Notably by using this assay and the syncytium formation assay we were not able to detect fusion of Vero E6 cells that were not transfected with plasmids encoding ACE2 and express only native concentrations of the receptor. To explore the possibility that this was due to low sensitivity of these two assays, we also used another assay based on fluorescent dye redistribution that is able to detect fusion of single cells. We were not able to detect statistically significant differences between cells transfected with plasmids encoding the full-length S glycoprotein and various negative controls including plasmids encoding soluble S fragments at different pH (data not shown), suggesting that the higher levels of receptor expression achieved by expression of recombinant ACE2 could be important for cell-cell fusion. The underlying mechanisms remain to be  The background OD405 measured for the negative control was subtracted from the OD405s of each S fragment. The resulting OD405 for each fragment was then presented as a percentage of the OD405 for S537. (C) Interaction of S fragments with purified soluble ACE2 as measured by ELISA. In all experiments, the negative control (NC) represents sample processed exactly the same way as the others except that the plasmid used for transfection did not encode any protein. Data shown here represent at least three independent experiments. OD405 for all samples is presented as percentages of that for S537. elucidated and could play a role in the entry of cell-free virus into cells. It is also possible that higher levels of S expression could lead to measurable cell fusion, even when the receptor concentrations are relatively low. Overall, these results suggest that recombinant S glycoprotein alone can mediate cell fusion, that fusion can occur at neutral pH, and that its efficiency is dependent on the concentration of the receptor molecules.', '\\n', 'Identification of a receptor-binding domain', 'In an attempt to localize the receptor-binding domain (RBD) of the S glycoprotein prior to the identification of the SARS-CoV receptor, we developed an assay based on the binding of various soluble fragments to receptor expressing Vero E6 cells. Incubation of Vero E6 cells that are susceptible to SARS-CoV infection and several cell lines that are not with soluble fragments resulted in binding only to Vero E6 cells by all fragments except the smallest one (S276) (Figs. 6A and B and data not shown). Binding was proportional to the expression levels of the fragments that were approximately inversely proportional to their sizes. These findings suggested that the RBD is localized between residues 272 and 537.', 'To further localize the RBD we used an antibody (IMG 542), which was elicited by a peptide containing residues 288-303. This antibody did not inhibit binding of the S537 fragment to Vero E6 cells although it did bind this fragment ( ', 'Very recently, Li et al. ', 'Schematic diagram of a monomer of expressed full-length SARS-CoV S glycoprotein and various soluble fragments after removal of the signal sequence (residues 1-16). TM denotes the transmembrane segment and the arrow indicates possible cleavage site at amino acid residues 758-761 (RNTR). RBD indicates the potential receptor-binding domain that is within S272-537 likely between a residue downstream from 303 and a residue upstream of 537 as suggested by this work.', 'Expression of soluble S fragments. (A) Supernatants of 293 and Vero E6 cells transfected with plasmids encoding S fragments (S276, S537, and S756) in the absence or presence of T7 polymerase expressed by recombinant vaccinia virus (VTF7.3) were transferred to nitrocellulose membranes (dot blots) and detected with anti-c-Myc epitope antibody. PC is the positive control for this antibody provided by the manufacturer and NC is a negative control of cells transfected with empty vector. (B) Supernatants from transfected cells as described above (A) were incubated with Ni-NTA agarose beads, washed, and subjected to Western blotting with the same anti-c-Myc epitope antibody as in A. (C) Detection of S fragments by two rabbit polyclonal antibodies raised against peptides corresponding to sequences starting at residues 24 (D24) and 540 (P540), respectively (right two panels). The left panel shows for comparison Western blot where S537 and S756 were detected by the anti-c-Myc epitope antibody.', 'Cell fusion mediated by the S glycoprotein. (A) Syncytium formation between 293T cells transfetced with pSecTag2B-S and pCDNA3-ACE2, respectively (right panel). There was no syncytium formation between 293T cells transfected with pSecTag2B-S and pCDNA3-ACE2-Ecto (left panel). (B) Cell fusion measured by a reporter gene-based assay. S glycoprotein expressed in both pCDNA3 and pSecTag2B vectors can be used in a b-gal reporter gene-based cellcell fusion assay. A pCDNA3-based plasmid without S insert was used as plasmid control, and fusion between S-expressing cells with ACE2ecto expressing cells was used as negative control.', 'Identification of the S glycoprotein receptor-binding domain (RBD). (A) Comparison of the binding of two different S soluble fragments (S537 and S756) to 293 and Vero E6 cells. (B) Binding of various S fragments to Vero E6 cells.']\n"
     ]
    }
   ],
   "source": [
    "for text in root.iter(namespace(root)+'body'):\n",
    "    print([t for t in text.itertext()])"
   ]
  },
  {
   "cell_type": "code",
   "execution_count": 9,
   "metadata": {},
   "outputs": [],
   "source": [
    "ELEMENTS = [\"H\", \"He\", \"Li\", \"Be\", \"B\", \"C\", \"N\", \"O\", \"F\", \"Ne\", \"Na\", \"Mg\", \"Al\", \"Si\", \"P\", \"S\", \"Cl\", \"Ar\", \"K\",\n",
    "                \"Ca\", \"Sc\", \"Ti\", \"V\", \"Cr\", \"Mn\", \"Fe\", \"Co\", \"Ni\", \"Cu\", \"Zn\", \"Ga\", \"Ge\", \"As\", \"Se\", \"Br\", \"Kr\",\n",
    "                \"Rb\", \"Sr\", \"Y\", \"Zr\", \"Nb\", \"Mo\", \"Tc\", \"Ru\", \"Rh\", \"Pd\", \"Ag\", \"Cd\", \"In\", \"Sn\", \"Sb\", \"Te\", \"I\",\n",
    "                \"Xe\", \"Cs\", \"Ba\", \"La\", \"Ce\", \"Pr\", \"Nd\", \"Pm\", \"Sm\", \"Eu\", \"Gd\", \"Tb\", \"Dy\", \"Ho\", \"Er\", \"Tm\", \"Yb\",\n",
    "                \"Lu\", \"Hf\", \"Ta\", \"W\", \"Re\", \"Os\", \"Ir\", \"Pt\", \"Au\", \"Hg\", \"Tl\", \"Pb\", \"Bi\", \"Po\", \"At\", \"Rn\", \"Fr\",\n",
    "                \"Ra\", \"Ac\", \"Th\", \"Pa\", \"U\", \"Np\", \"Pu\", \"Am\", \"Cm\", \"Bk\", \"Cf\", \"Es\", \"Fm\", \"Md\", \"No\", \"Lr\", \"Rf\",\n",
    "                \"Db\", \"Sg\", \"Bh\", \"Hs\", \"Mt\", \"Ds\", \"Rg\", \"Cn\", \"Nh\", \"Fl\", \"Mc\", \"Lv\", \"Ts\", \"Og\", \"Uue\"]"
   ]
  },
  {
   "cell_type": "code",
   "execution_count": 10,
   "metadata": {},
   "outputs": [],
   "source": [
    "ELEMENT_NAMES = [\"hydrogen\", \"helium\", \"lithium\", \"beryllium\", \"boron\", \"carbon\", \"nitrogen\", \"oxygen\", \"fluorine\",\n",
    "                     \"neon\", \"sodium\", \"magnesium\", \"aluminium\", \"silicon\", \"phosphorus\", \"sulfur\", \"chlorine\", \"argon\",\n",
    "                     \"potassium\", \"calcium\", \"scandium\", \"titanium\", \"vanadium\", \"chromium\", \"manganese\", \"iron\",\n",
    "                     \"cobalt\", \"nickel\", \"copper\", \"zinc\", \"gallium\", \"germanium\", \"arsenic\", \"selenium\", \"bromine\",\n",
    "                     \"krypton\", \"rubidium\", \"strontium\", \"yttrium\", \"zirconium\", \"niobium\", \"molybdenum\", \"technetium\",\n",
    "                     \"ruthenium\", \"rhodium\", \"palladium\", \"silver\", \"cadmium\", \"indium\", \"tin\", \"antimony\", \"tellurium\",\n",
    "                     \"iodine\", \"xenon\", \"cesium\", \"barium\", \"lanthanum\", \"cerium\", \"praseodymium\", \"neodymium\",\n",
    "                     \"promethium\", \"samarium\", \"europium\", \"gadolinium\", \"terbium\", \"dysprosium\", \"holmium\", \"erbium\",\n",
    "                     \"thulium\", \"ytterbium\", \"lutetium\", \"hafnium\", \"tantalum\", \"tungsten\", \"rhenium\", \"osmium\",\n",
    "                     \"iridium\", \"platinum\", \"gold\", \"mercury\", \"thallium\", \"lead\", \"bismuth\", \"polonium\", \"astatine\",\n",
    "                     \"radon\", \"francium\", \"radium\", \"actinium\", \"thorium\", \"protactinium\", \"uranium\", \"neptunium\",\n",
    "                     \"plutonium\", \"americium\", \"curium\", \"berkelium\", \"californium\", \"einsteinium\", \"fermium\",\n",
    "                     \"mendelevium\", \"nobelium\", \"lawrencium\", \"rutherfordium\", \"dubnium\", \"seaborgium\", \"bohrium\",\n",
    "                     \"hassium\", \"meitnerium\", \"darmstadtium\", \"roentgenium\", \"copernicium\", \"nihonium\", \"flerovium\",\n",
    "                     \"moscovium\", \"livermorium\", \"tennessine\", \"oganesson\", \"ununennium\"]"
   ]
  },
  {
   "cell_type": "code",
   "execution_count": 11,
   "metadata": {},
   "outputs": [],
   "source": [
    "ELEMENTS_AND_NAMES = ELEMENTS + ELEMENT_NAMES + [en.capitalize() for en in ELEMENT_NAMES]"
   ]
  },
  {
   "cell_type": "code",
   "execution_count": 12,
   "metadata": {},
   "outputs": [],
   "source": [
    "ELEMENTS_NAMES_UL = ELEMENT_NAMES + [en.capitalize() for en in ELEMENT_NAMES]"
   ]
  },
  {
   "cell_type": "code",
   "execution_count": 13,
   "metadata": {},
   "outputs": [],
   "source": [
    "# Elemement with the valence state in parenthesis.\n",
    "ELEMENT_VALENCE_IN_PAR = re.compile(r\"^(\"+r\"|\".join(ELEMENTS_AND_NAMES) +\n",
    "                                           r\")(\\(([IV|iv]|[Vv]?[Ii]{0,3})\\))$\")"
   ]
  },
  {
   "cell_type": "code",
   "execution_count": 14,
   "metadata": {},
   "outputs": [],
   "source": [
    "ELEMENT_DIRECTION_IN_PAR = re.compile(r\"^(\" + r\"|\".join(ELEMENTS_AND_NAMES) + r\")(\\(\\d\\d\\d\\d?\\))\")"
   ]
  },
  {
   "cell_type": "code",
   "execution_count": 15,
   "metadata": {},
   "outputs": [],
   "source": [
    "# Exactly IV, VI or has 2 consecutive II, or roman in parenthesis: is not a simple formula.\n",
    "VALENCE_INFO = re.compile(r\"(II+|^IV$|^VI$|\\(IV\\)|\\(V?I{0,3}\\))\")"
   ]
  },
  {
   "cell_type": "code",
   "execution_count": 16,
   "metadata": {},
   "outputs": [],
   "source": [
    "SPLIT_UNITS = [\"K\", \"h\", \"V\", \"wt\", \"wt.\", \"MHz\", \"kHz\", \"GHz\", \"Hz\", \"days\", \"weeks\",\n",
    "                   \"hours\", \"minutes\", \"seconds\", \"T\", \"MPa\", \"GPa\", \"at.\", \"mol.\",\n",
    "                   \"at\", \"m\", \"N\", \"s-1\", \"vol.\", \"vol\", \"eV\", \"A\", \"atm\", \"bar\",\n",
    "                   \"kOe\", \"Oe\", \"h.\", \"mWcm−2\", \"keV\", \"MeV\", \"meV\", \"day\", \"week\", \"hour\",\n",
    "                   \"minute\", \"month\", \"months\", \"year\", \"cycles\", \"years\", \"fs\", \"ns\",\n",
    "                   \"ps\", \"rpm\", \"g\", \"mg\", \"mAcm−2\", \"mA\", \"mK\", \"mT\", \"s-1\", \"dB\",\n",
    "                   \"Ag-1\", \"mAg-1\", \"mAg−1\", \"mAg\", \"mAh\", \"mAhg−1\", \"m-2\", \"mJ\", \"kJ\",\n",
    "                   \"m2g−1\", \"THz\", \"KHz\", \"kJmol−1\", \"Torr\", \"gL-1\", \"Vcm−1\", \"mVs−1\",\n",
    "                   \"J\", \"GJ\", \"mTorr\", \"bar\", \"cm2\", \"mbar\", \"kbar\", \"mmol\", \"mol\", \"molL−1\",\n",
    "                   \"MΩ\", \"Ω\", \"kΩ\", \"mΩ\", \"mgL−1\", \"moldm−3\", \"m2\", \"m3\", \"cm-1\", \"cm\",\n",
    "                   \"Scm−1\", \"Acm−1\", \"eV−1cm−2\", \"cm-2\", \"sccm\", \"cm−2eV−1\", \"cm−3eV−1\",\n",
    "                   \"kA\", \"s−1\", \"emu\", \"L\", \"cmHz1\", \"gmol−1\", \"kVcm−1\", \"MPam1\",\n",
    "                   \"cm2V−1s−1\", \"Acm−2\", \"cm−2s−1\", \"MV\", \"ionscm−2\", \"Jcm−2\", \"ncm−2\",\n",
    "                   \"Jcm−2\", \"Wcm−2\", \"GWcm−2\", \"Acm−2K−2\", \"gcm−3\", \"cm3g−1\", \"mgl−1\",\n",
    "                   \"mgml−1\", \"mgcm−2\", \"mΩcm\", \"cm−2s−1\", \"cm−2\", \"ions\", \"moll−1\",\n",
    "                   \"nmol\", \"psi\", \"mol·L−1\", \"Jkg−1K−1\", \"km\", \"Wm−2\", \"mass\", \"mmHg\",\n",
    "                   \"mmmin−1\", \"GeV\", \"m−2\", \"m−2s−1\", \"Kmin−1\", \"gL−1\", \"ng\", \"hr\", \"w\",\n",
    "                   \"mN\", \"kN\", \"Mrad\", \"rad\", \"arcsec\", \"Ag−1\", \"dpa\", \"cdm−2\",\n",
    "                   \"cd\", \"mcd\", \"mHz\", \"m−3\", \"ppm\", \"phr\", \"mL\", \"ML\", \"mlmin−1\", \"MWm−2\",\n",
    "                   \"Wm−1K−1\", \"Wm−1K−1\", \"kWh\", \"Wkg−1\", \"Jm−3\", \"m-3\", \"gl−1\", \"A−1\",\n",
    "                   \"Ks−1\", \"mgdm−3\", \"mms−1\", \"ks\", \"appm\", \"ºC\", \"HV\", \"kDa\", \"Da\", \"kG\",\n",
    "                   \"kGy\", \"MGy\", \"Gy\", \"mGy\", \"Gbps\", \"μB\", \"μL\", \"μF\", \"nF\", \"pF\", \"mF\",\n",
    "                   \"A\", \"Å\", \"A˚\", \"μgL−1\"]"
   ]
  },
  {
   "cell_type": "code",
   "execution_count": 17,
   "metadata": {},
   "outputs": [],
   "source": [
    "NR_BASIC = re.compile(r\"^[+-]?\\d*.?\\d+\\(?\\d*\\)?$\",re.DOTALL)"
   ]
  },
  {
   "cell_type": "code",
   "execution_count": 18,
   "metadata": {},
   "outputs": [],
   "source": [
    "NR_AND_UNIT = re.compile(r\"^([+-]?\\d*\\.?\\d+\\(?\\d*\\)?)([\\\\p{Latin}|Ω|μ]+.*)\", re.DOTALL)"
   ]
  },
  {
   "cell_type": "code",
   "execution_count": 19,
   "metadata": {},
   "outputs": [],
   "source": [
    "PUNCT = list(string.punctuation) + [\"\\\"\", \"“\", \"”\", \"≥\", \"≤\", \"×\"]"
   ]
  },
  {
   "cell_type": "code",
   "execution_count": 20,
   "metadata": {},
   "outputs": [],
   "source": [
    "elem_name_dict = {en: es for en, es in zip(ELEMENT_NAMES, ELEMENTS)}"
   ]
  },
  {
   "cell_type": "code",
   "execution_count": 21,
   "metadata": {},
   "outputs": [],
   "source": [
    "def tokenize(text, split_oxidation=True, keep_sentences=True):\n",
    "        \"\"\"Converts a string to a list tokens (words) using a modified chemdataextractor tokenizer.\n",
    "        Adds a few fixes for inorganic materials science, such as splitting common units from numbers\n",
    "        and splitting the valence state.\n",
    "        Args:\n",
    "            text: input text as a string\n",
    "            split_oxidation: if True, will split the oxidation state from the element, e.g. iron(II)\n",
    "                will become iron (II), same with Fe(II), etc.\n",
    "            keep_sentences: if False, will disregard the sentence structure and return tokens as a\n",
    "                single list of strings. Otherwise returns a list of lists, each sentence separately.\n",
    "        Returns:\n",
    "            A list of strings if keep_sentence is False, otherwise a list of list of strings, which each\n",
    "            list corresponding to a single sentence.\n",
    "        \"\"\"\n",
    "        def split_token(token, so=split_oxidation):\n",
    "            \"\"\"Processes a single token, in case it needs to be split up.\n",
    "            There are 2 cases when the token is split: A number with a common unit, or an\n",
    "            element with a valence state.\n",
    "            Args:\n",
    "                token: The string to be processed.\n",
    "                so: If True, split the oxidation (valence) string. Units are always split.\n",
    "            Returns:\n",
    "                A list of strings.\n",
    "            \"\"\"\n",
    "            elem_with_valence = ELEMENT_VALENCE_IN_PAR.match(token) if so else None\n",
    "            nr_unit = NR_AND_UNIT.match(token)\n",
    "            if nr_unit is not None and nr_unit.group(2) in SPLIT_UNITS:\n",
    "                # Splitting the unit from number, e.g. \"5V\" -> [\"5\", \"V\"].\n",
    "                return [nr_unit.group(1), nr_unit.group(2)]\n",
    "            elif elem_with_valence is not None:\n",
    "                # Splitting element from it\"s valence state, e.g. \"Fe(II)\" -> [\"Fe\", \"(II)\"].\n",
    "                return [elem_with_valence.group(1), elem_with_valence.group(2)]\n",
    "            else:\n",
    "                return [token]\n",
    "\n",
    "        cde_p = Paragraph(text)\n",
    "        tokens = cde_p.tokens\n",
    "        toks = []\n",
    "        for sentence in tokens:\n",
    "            if keep_sentences:\n",
    "                toks.append([])\n",
    "                for tok in sentence:\n",
    "                    toks[-1] += split_token(tok.text, so=split_oxidation)\n",
    "            else:\n",
    "                for tok in sentence:\n",
    "                    toks += split_token(tok.text, so=split_oxidation)\n",
    "        return toks"
   ]
  },
  {
   "cell_type": "code",
   "execution_count": 22,
   "metadata": {},
   "outputs": [],
   "source": [
    "import unicodedata"
   ]
  },
  {
   "cell_type": "code",
   "execution_count": 23,
   "metadata": {},
   "outputs": [],
   "source": [
    "def remove_accent(txt):\n",
    "        \"\"\"Removes accents from a string.\n",
    "        Args:\n",
    "            txt: The input string.\n",
    "        Returns:\n",
    "            The de-accented string.\n",
    "        \"\"\"\n",
    "        # There is a problem with angstrom sometimes, so ignoring length 1 strings.\n",
    "        return unicodedata.normalize('NFKD', txt).encode('ascii','ignore').decode('utf-8') if len(txt) > 1 else txt"
   ]
  },
  {
   "cell_type": "code",
   "execution_count": 24,
   "metadata": {},
   "outputs": [],
   "source": [
    "def get_ordered_integer_formula(el_amt, max_denominator=1000):\n",
    "        \"\"\"Converts a mapping of {element: stoichiometric value} to a alphabetically ordered string.\n",
    "        Given a dictionary of {element : stoichiometric value, ..}, returns a string with\n",
    "        elements ordered alphabetically and stoichiometric values normalized to smallest common\n",
    "        integer denominator.\n",
    "        Args:\n",
    "            el_amt: {element: stoichiometric value} mapping.\n",
    "            max_denominator: The maximum common denominator of stoichiometric values to use for\n",
    "                normalization. Smaller stoichiometric fractions will be converted to the same\n",
    "                integer stoichiometry.\n",
    "        Returns:\n",
    "            A material formula string with elements ordered alphabetically and the stoichiometry\n",
    "            normalized to the smallest integer fractions.\n",
    "        \"\"\"\n",
    "        g = gcd_float(list(el_amt.values()), 1 / max_denominator)\n",
    "        d = {k: round(v / g) for k, v in el_amt.items()}\n",
    "        formula = \"\"\n",
    "        for k in sorted(d):\n",
    "            if d[k] > 1:\n",
    "                formula += k + str(d[k])\n",
    "            elif d[k] != 0:\n",
    "                formula += k\n",
    "        return formula"
   ]
  },
  {
   "cell_type": "code",
   "execution_count": 41,
   "metadata": {},
   "outputs": [],
   "source": [
    "def normalized_formula(formula, max_denominator=1000):\n",
    "        \"\"\"Normalizes chemical formula to smallest common integer denominator, and orders elements alphabetically.\n",
    "        Args:\n",
    "            formula: the string formula.\n",
    "            max_denominator: highest precision for the denominator (1000 by default).\n",
    "        Returns:\n",
    "            A normalized formula string, e.g. Ni0.5Fe0.5 -> FeNi.\n",
    "        \"\"\"\n",
    "        try:\n",
    "            formula_dict = Composition(formula).get_el_amt_dict()\n",
    "            return get_ordered_integer_formula(formula_dict, max_denominator)\n",
    "        except (CompositionError, ValueError):\n",
    "            return formula"
   ]
  },
  {
   "cell_type": "code",
   "execution_count": 30,
   "metadata": {},
   "outputs": [],
   "source": [
    "def is_number(s):\n",
    "        \"\"\"Determines if the supplied string is number.\n",
    "        Args:\n",
    "            s: The input string.\n",
    "        Returns:\n",
    "            True if the supplied string is a number (both . and , are acceptable), False otherwise.\n",
    "        \"\"\"\n",
    "        return NR_BASIC.match(s.replace(\",\", \"\")) is not None"
   ]
  },
  {
   "cell_type": "code",
   "execution_count": 29,
   "metadata": {},
   "outputs": [],
   "source": [
    "def is_element(txt):\n",
    "        \"\"\"Checks if the string is a chemical symbol.\n",
    "        Args:\n",
    "            txt: The input string.\n",
    "        Returns:\n",
    "            True if the string is a chemical symbol, e.g. Hg, Fe, V, etc. False otherwise.\n",
    "        \"\"\"\n",
    "        try:\n",
    "            Element(txt)\n",
    "            return True\n",
    "        except ValueError:\n",
    "            return False"
   ]
  },
  {
   "cell_type": "code",
   "execution_count": 28,
   "metadata": {},
   "outputs": [],
   "source": [
    "def is_simple_formula(text):\n",
    "        \"\"\"Determines if the string is a simple chemical formula.\n",
    "        Excludes some roman numbers, e.g. IV.\n",
    "        Args:\n",
    "            text: The input string.\n",
    "        Returns:\n",
    "            True if the supplied string a simple formula, e.g. IrMn, LiFePO4, etc. More complex\n",
    "            formula such as LiFePxO4-x are not considered to be simple formulae.\n",
    "        \"\"\"\n",
    "        if VALENCE_INFO.search(text) is not None:\n",
    "            # 2 consecutive II, IV or VI should not be parsed as formula.\n",
    "            # Related to valence state, so don\"t want to mix with I and V elements.\n",
    "            return False\n",
    "        elif any(char.isdigit() or char.islower() for char in text):\n",
    "            # Aas to contain at least one lowercase letter or at least one number (to ignore abbreviations).\n",
    "            # Also ignores some materials like BN, but these are few and usually written in the same way,\n",
    "            # so normalization won\"t be crucial.\n",
    "            try:\n",
    "                if text in [\"O2\", \"N2\", \"Cl2\", \"F2\", \"H2\"]:\n",
    "                    # Including chemical elements that are diatomic at room temperature and atm pressure,\n",
    "                    # despite them having only a single element.\n",
    "                    return True\n",
    "                composition = Composition(text)\n",
    "                # Has to contain more than one element, single elements are handled differently.\n",
    "                if len(composition.keys()) < 2 or any([not is_element(key) for key in composition.keys()]):\n",
    "                    return False\n",
    "                return True\n",
    "            except (CompositionError, ValueError):\n",
    "                return False\n",
    "        else:\n",
    "            return False"
   ]
  },
  {
   "cell_type": "code",
   "execution_count": 43,
   "metadata": {},
   "outputs": [],
   "source": [
    "def process(tokens, exclude_punct=False, convert_num=True, normalize_materials=True, remove_accents=True,\n",
    "                make_phrases=False, split_oxidation=True):\n",
    "        \"\"\"Processes a pre-tokenized list of strings or a string.\n",
    "        Selective lower casing, material normalization, etc.\n",
    "        Args:\n",
    "            tokens: A list of strings or a string. If a string is supplied, will use the\n",
    "                tokenize method first to split it into a list of token strings.\n",
    "            exclude_punct: Bool flag to exclude all punctuation.\n",
    "            convert_num: Bool flag to convert numbers (selectively) to <nUm>.\n",
    "            normalize_materials: Bool flag to normalize all simple material formula.\n",
    "            remove_accents: Bool flag to remove accents, e.g. Néel -> Neel.\n",
    "            make_phrases: Bool flag to convert single tokens to common materials science phrases.\n",
    "            split_oxidation: Only used if string is supplied, see docstring for tokenize method.\n",
    "        Returns:\n",
    "            A (processed_tokens, material_list) tuple. processed_tokens is a list of strings,\n",
    "            whereas material_list is a list of (original_material_string, normalized_material_string)\n",
    "            tuples.\n",
    "        \"\"\"\n",
    "\n",
    "        if not isinstance(tokens, list):  # If it\"s a string.\n",
    "            return process(tokenize(\n",
    "                tokens, split_oxidation=split_oxidation, keep_sentences=False),\n",
    "                exclude_punct=exclude_punct,\n",
    "                convert_num=convert_num,\n",
    "                normalize_materials=normalize_materials,\n",
    "                remove_accents=remove_accents,\n",
    "                make_phrases=make_phrases\n",
    "            )\n",
    "\n",
    "        processed, mat_list = [], []\n",
    "\n",
    "        for i, tok in enumerate(tokens):\n",
    "            if exclude_punct and tok in PUNCT:  # Punctuation.\n",
    "                continue\n",
    "            elif convert_num and is_number(tok):  # Number.\n",
    "                # Replace all numbers with <nUm>, except if it is a crystal direction (e.g. \"(111)\").\n",
    "                try:\n",
    "                    if tokens[i - 1] == \"(\" and tokens[i + 1] == \")\" \\\n",
    "                            or tokens[i - 1] == \"〈\" and tokens[i + 1] == \"〉\":\n",
    "                        pass\n",
    "                    else:\n",
    "                        tok = \"<nUm>\"\n",
    "                except IndexError:\n",
    "                    tok = \"<nUm>\"\n",
    "            elif tok in ELEMENTS_NAMES_UL:  # Chemical element name.\n",
    "                # Add as a material mention.\n",
    "                mat_list.append((tok, elem_name_dict[tok.lower()]))\n",
    "                tok = tok.lower()\n",
    "            elif is_simple_formula(tok):  # Simple chemical formula.\n",
    "                normalized_formu = normalized_formula(tok)\n",
    "                mat_list.append((tok, normalized_formu))\n",
    "                if normalize_materials:\n",
    "                    tok = normalized_formu\n",
    "            elif (len(tok) == 1 or (len(tok) > 1 and tok[0].isupper() and tok[1:].islower())) \\\n",
    "                    and tok not in ELEMENTS and tok not in SPLIT_UNITS \\\n",
    "                    and ELEMENT_DIRECTION_IN_PAR.match(tok) is None:\n",
    "                # To lowercase if only first letter is uppercase (chemical elements already covered above).\n",
    "                tok = tok.lower()\n",
    "\n",
    "            if remove_accents:\n",
    "                tok = remove_accent(tok)\n",
    "\n",
    "            processed.append(tok)\n",
    "\n",
    "        if make_phrases:\n",
    "            processed = make_phrases(processed, reps=2)\n",
    "\n",
    "        return processed, mat_list"
   ]
  },
  {
   "cell_type": "code",
   "execution_count": 44,
   "metadata": {},
   "outputs": [],
   "source": [
    "sentence_1 = \"We measured 100 materials, including Ni(CO)4 and obtained very \" \\\n",
    "                          \"high Thermoelectric Figures of merit ZT. These results demonstrate \" \\\n",
    "                          \"the utility of Machine Learning methods for materials discovery.\"\n",
    "sentence_2 = \"iron(II) was oxidized to obtain 5mg Ferrous Oxide\""
   ]
  },
  {
   "cell_type": "code",
   "execution_count": 45,
   "metadata": {},
   "outputs": [],
   "source": [
    "sentences = [sentence_1] * 2 + [sentence_2] * 2\n",
    "split_oxidation = [True, False, True, False]\n",
    "keep_sentences = [True, False, True, False]"
   ]
  },
  {
   "cell_type": "code",
   "execution_count": 46,
   "metadata": {},
   "outputs": [
    {
     "data": {
      "text/plain": [
       "(['we',\n",
       "  'measured',\n",
       "  '<nUm>',\n",
       "  'materials',\n",
       "  ',',\n",
       "  'including',\n",
       "  'C4NiO4',\n",
       "  'and',\n",
       "  'obtained',\n",
       "  'very',\n",
       "  'high',\n",
       "  'thermoelectric',\n",
       "  'figures',\n",
       "  'of',\n",
       "  'merit',\n",
       "  'ZT',\n",
       "  '.'],\n",
       " [('Ni(CO)4', 'C4NiO4')])"
      ]
     },
     "execution_count": 46,
     "metadata": {},
     "output_type": "execute_result"
    }
   ],
   "source": [
    "# type 'cde data download' in the shell to download the chemdataextractor pickle model\n",
    "process(tokenize(sentence_1, True, True)[0])"
   ]
  },
  {
   "cell_type": "code",
   "execution_count": null,
   "metadata": {},
   "outputs": [],
   "source": []
  },
  {
   "cell_type": "code",
   "execution_count": null,
   "metadata": {},
   "outputs": [],
   "source": [
    "# rever\n",
    "def make_phrases(sentence, reps=2):\n",
    "        \"\"\"Generates phrases from a sentence of words.\n",
    "        Args:\n",
    "            sentence: A list of tokens (strings).\n",
    "            reps: How many times to combine the words.\n",
    "        Returns:\n",
    "            A list of strings where the strings in the original list are combined\n",
    "            to form phrases, separated from each other with an underscore \"_\".\n",
    "        \"\"\"\n",
    "        while reps > 0:\n",
    "            sentence = phraser[sentence]\n",
    "            reps -= 1\n",
    "        return sentence"
   ]
  }
 ],
 "metadata": {
  "kernelspec": {
   "display_name": "Python 3",
   "language": "python",
   "name": "python3"
  },
  "language_info": {
   "codemirror_mode": {
    "name": "ipython",
    "version": 3
   },
   "file_extension": ".py",
   "mimetype": "text/x-python",
   "name": "python",
   "nbconvert_exporter": "python",
   "pygments_lexer": "ipython3",
   "version": "3.7.5"
  }
 },
 "nbformat": 4,
 "nbformat_minor": 2
}
