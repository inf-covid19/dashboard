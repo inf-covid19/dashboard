{
 "cells": [
  {
   "cell_type": "code",
   "execution_count": 260,
   "metadata": {},
   "outputs": [],
   "source": [
    "import re\n",
    "import xml.etree.ElementTree as ET\n",
    "import xml.dom.minidom as minidom\n",
    "\n",
    "from os import listdir\n",
    "from os.path import isfile, join"
   ]
  },
  {
   "cell_type": "code",
   "execution_count": 261,
   "metadata": {},
   "outputs": [
    {
     "data": {
      "text/plain": [
       "['1-s2.0-S0166354216304016-main.tei.xml',\n",
       " 'PIIS0140673620303743.tei.xml',\n",
       " 'radiol.2020200370.tei.xml',\n",
       " '1-s2.0-S0163445313000716-main.tei.xml',\n",
       " 'PIIS1473309920301201.tei.xml',\n",
       " 'nejmp2002125.tei.xml',\n",
       " 'NEJM2013.4.23-111H7N9cases.tei.xml',\n",
       " 'jcm-09-00523-v2.tei.xml',\n",
       " 'PIIS0140673620303652.tei.xml',\n",
       " 'bmj.m641.full.tei.xml',\n",
       " '1-s2.0-S0163445313001114-main.tei.xml',\n",
       " 'PIIS221326002030076X.tei.xml',\n",
       " '1-s2.0-S0006291X14013321-main.tei.xml',\n",
       " '1-s2.0-S0140673620304116-main.tei.xml',\n",
       " '1-s2.0-S1473309920300864-main.tei.xml',\n",
       " 'aqaa029.tei.xml',\n",
       " 'jkms-35-e79.tei.xml',\n",
       " 'CORONAVIRUS.tei.xml',\n",
       " 'nejmoa030781.tei.xml',\n",
       " '1-s2.0-S0166354216301917-main.tei.xml',\n",
       " '1-s2.0-S0042682219301631-main.tei.xml',\n",
       " 'ciaa247.tei.xml',\n",
       " '1-s2.0-S1090023317300059-main.tei.xml',\n",
       " 'jama_bai_2020_ld_200013.tei.xml',\n",
       " '1-s2.0-S0065352716300458-main.tei.xml',\n",
       " 'advpub_2020.01047.tei.xml',\n",
       " 'Stuerzlinger2006_Article_TheDesignAndRealizationOfCoViD.tei.xml',\n",
       " '4240.full.tei.xml',\n",
       " 'jama_wu_2020_vp_200028.tei.xml',\n",
       " '1-s2.0-S0006291X03024136-main.tei.xml',\n",
       " 'WHO-WPE-GIH-2020.1-eng.tei.xml',\n",
       " '1-s2.0-S0140673620303603-main.tei.xml',\n",
       " 'radiol.2020200642.tei.xml',\n",
       " 'WHO-COVID-19-laboratory-2020.4-eng.tei.xml',\n",
       " 'Velavan_et_al-2020-Tropical_Medicine__International_Health.tei.xml',\n",
       " '1-s2.0-S0924857920300674-main.tei.xml',\n",
       " 'nrmicro2090.tei.xml',\n",
       " 'radiol.2020200432.tei.xml',\n",
       " 'ciaa225.tei.xml',\n",
       " 'FULLTEXT01.tei.xml',\n",
       " 'radiol.2020200463.tei.xml',\n",
       " '1-s2.0-S0042682219302193-main.tei.xml',\n",
       " '1-s2.0-S0168170219302850-main.tei.xml']"
      ]
     },
     "execution_count": 261,
     "metadata": {},
     "output_type": "execute_result"
    }
   ],
   "source": [
    "INPUT_PATH = f\"out/\"\n",
    "OUTPUT_PATH = \"clean_out/\"\n",
    "FILES = onlyfiles = [f for f in listdir(INPUT_PATH) if isfile(join(INPUT_PATH, f))]\n",
    "FILES"
   ]
  },
  {
   "cell_type": "markdown",
   "metadata": {},
   "source": [
    "## Remove Tags\n",
    " - tag ref type=bibr\n",
    " - tag ref type=figure\n",
    " - remover tag figure e manter tag figDesc, dentro de figure\n",
    " - remover tag ref type=table\n",
    " - remover tag table \n",
    " - remover tag formula"
   ]
  },
  {
   "cell_type": "code",
   "execution_count": 262,
   "metadata": {},
   "outputs": [],
   "source": [
    "def get_node(parent):\n",
    "    if parent:\n",
    "        rem_child = []\n",
    "        add_child = []\n",
    "        for child in parent:\n",
    "            if child.tag == namespace(root)+\"figure\":\n",
    "                figDesc = child.find(namespace(root)+'figDesc')\n",
    "                add_child.append(figDesc)\n",
    "                rem_child.append(child)\n",
    "            if child.tag in [namespace(root)+\"table\", namespace(root)+\"formula\"]:\n",
    "                rem_child.append(child)\n",
    "            elif child.tag == namespace(root)+\"ref\":\n",
    "#                 print(child.attrib)\n",
    "                if 'type' in child.attrib and child.attrib['type'] in ['bibr', 'figure', 'table']:\n",
    "                    rem_child.append(child)\n",
    "        for child in rem_child:\n",
    "            parent.remove(child)\n",
    "        for child in add_child:\n",
    "            parent.append(child)\n",
    "        for child in parent:\n",
    "            yield from get_node(child)"
   ]
  },
  {
   "cell_type": "code",
   "execution_count": 263,
   "metadata": {},
   "outputs": [],
   "source": [
    "def namespace(element):\n",
    "    m = re.match(r'\\{.*\\}', element.tag)\n",
    "    return m.group(0) if m else ''"
   ]
  },
  {
   "cell_type": "code",
   "execution_count": 264,
   "metadata": {},
   "outputs": [],
   "source": [
    "ET.register_namespace('', \"http://www.tei-c.org/ns/1.0\")\n",
    "ET.register_namespace('ows', \"http://www.opengis.net/ows/1.1\")\n",
    "ET.register_namespace('xlink', \"http://www.w3.org/1999/xlink\")\n",
    "ET.register_namespace('xsi', \"http://www.w3.org/2001/XMLSchema-instance\")\n"
   ]
  },
  {
   "cell_type": "markdown",
   "metadata": {},
   "source": [
    "## Init"
   ]
  },
  {
   "cell_type": "code",
   "execution_count": 268,
   "metadata": {},
   "outputs": [],
   "source": [
    "for curr_file in FILES:\n",
    "    tree = ET.parse(INPUT_PATH + curr_file)\n",
    "    root = tree.getroot()\n",
    "    list(get_node(root))\n",
    "    #get_node(root)\n",
    "    tree.write(OUTPUT_PATH + curr_file)"
   ]
  },
  {
   "cell_type": "code",
   "execution_count": 267,
   "metadata": {},
   "outputs": [],
   "source": [
    "# Write XML file\n",
    "rough_string = ET.tostring(root, 'UTF-8')\n",
    "rough_string = rough_string.replace(b'\\t', b'')\n",
    "rough_string = rough_string.replace(b'\\n', b'')\n",
    "reparsed = minidom.parseString(rough_string)\n",
    "#xml_file = open(OUTPUT_PATH + curr_file.split('.')[0]+'-'+str(it)+'.xml', 'w')\n",
    "xml_file = open('clean_out/1-s2.0-S0006291X03024136-main.tei.xml', 'w')\n",
    "xml_file.write(reparsed.toprettyxml(indent=\"\\t\", encoding='UTF-8').decode(\"utf-8\"))\n",
    "xml_file.close()"
   ]
  },
  {
   "cell_type": "code",
   "execution_count": 229,
   "metadata": {},
   "outputs": [],
   "source": []
  },
  {
   "cell_type": "code",
   "execution_count": null,
   "metadata": {},
   "outputs": [],
   "source": []
  }
 ],
 "metadata": {
  "kernelspec": {
   "display_name": "Python 3",
   "language": "python",
   "name": "python3"
  },
  "language_info": {
   "codemirror_mode": {
    "name": "ipython",
    "version": 3
   },
   "file_extension": ".py",
   "mimetype": "text/x-python",
   "name": "python",
   "nbconvert_exporter": "python",
   "pygments_lexer": "ipython3",
   "version": "3.6.9"
  }
 },
 "nbformat": 4,
 "nbformat_minor": 2
}
